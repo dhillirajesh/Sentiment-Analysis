{
 "cells": [
  {
   "cell_type": "code",
   "execution_count": 16,
   "id": "27fa8d3c",
   "metadata": {},
   "outputs": [
    {
     "data": {
      "text/html": [
       "<div>\n",
       "<style scoped>\n",
       "    .dataframe tbody tr th:only-of-type {\n",
       "        vertical-align: middle;\n",
       "    }\n",
       "\n",
       "    .dataframe tbody tr th {\n",
       "        vertical-align: top;\n",
       "    }\n",
       "\n",
       "    .dataframe thead th {\n",
       "        text-align: right;\n",
       "    }\n",
       "</style>\n",
       "<table border=\"1\" class=\"dataframe\">\n",
       "  <thead>\n",
       "    <tr style=\"text-align: right;\">\n",
       "      <th></th>\n",
       "      <th>Polarity</th>\n",
       "      <th>Sentence</th>\n",
       "    </tr>\n",
       "  </thead>\n",
       "  <tbody>\n",
       "    <tr>\n",
       "      <th>0</th>\n",
       "      <td>0</td>\n",
       "      <td>పరువునష్టాన్ని కలిగించే చర్యలను 1860 నాటి భారత...</td>\n",
       "    </tr>\n",
       "    <tr>\n",
       "      <th>1</th>\n",
       "      <td>1</td>\n",
       "      <td>వాహనంలో ఉన్న పోలీసు సిబ్బందికి బుల్లెట్ ప్రూఫ్...</td>\n",
       "    </tr>\n",
       "    <tr>\n",
       "      <th>2</th>\n",
       "      <td>-1</td>\n",
       "      <td>దేశంపట్ల కానీ, ప్రజలపట్ల కానీ బాధ్యత కనిపించదు.</td>\n",
       "    </tr>\n",
       "    <tr>\n",
       "      <th>3</th>\n",
       "      <td>0</td>\n",
       "      <td>ఒక పనిమనిషి కుమారుడు ఈ దేశ ప్రధాని కావడం అంబేద...</td>\n",
       "    </tr>\n",
       "    <tr>\n",
       "      <th>4</th>\n",
       "      <td>0</td>\n",
       "      <td>మత ప్రాతిపదికన మనుషుల్ని రెచ్చగొట్టే ఉగ్రవాదం ...</td>\n",
       "    </tr>\n",
       "    <tr>\n",
       "      <th>...</th>\n",
       "      <td>...</td>\n",
       "      <td>...</td>\n",
       "    </tr>\n",
       "    <tr>\n",
       "      <th>5405</th>\n",
       "      <td>1</td>\n",
       "      <td>క్రీడాస్ఫూర్తి వీటన్నింటినీ మించి ఉన్నప్పుడు మ...</td>\n",
       "    </tr>\n",
       "    <tr>\n",
       "      <th>5406</th>\n",
       "      <td>0</td>\n",
       "      <td>ఆయన అందించిన చైతన్యంతో ఎదిగివచ్చి, సంఘటితమవుతు...</td>\n",
       "    </tr>\n",
       "    <tr>\n",
       "      <th>5407</th>\n",
       "      <td>1</td>\n",
       "      <td>భారతతో వాణిజ్యాన్ని వజ్రాలకు మాత్రమే పరిమితం చ...</td>\n",
       "    </tr>\n",
       "    <tr>\n",
       "      <th>5408</th>\n",
       "      <td>0</td>\n",
       "      <td>అంతర్జాతీయ టోర్నీల్లో పోర్చుగల్ విజేతగా నిలవడం...</td>\n",
       "    </tr>\n",
       "    <tr>\n",
       "      <th>5409</th>\n",
       "      <td>0</td>\n",
       "      <td>కానీ, నాయకులకు ఈ అంశం సుదీర్ఘకాలం నానడం అవసరం.</td>\n",
       "    </tr>\n",
       "  </tbody>\n",
       "</table>\n",
       "<p>5410 rows × 2 columns</p>\n",
       "</div>"
      ],
      "text/plain": [
       "      Polarity                                           Sentence\n",
       "0            0  పరువునష్టాన్ని కలిగించే చర్యలను 1860 నాటి భారత...\n",
       "1            1  వాహనంలో ఉన్న పోలీసు సిబ్బందికి బుల్లెట్ ప్రూఫ్...\n",
       "2           -1    దేశంపట్ల కానీ, ప్రజలపట్ల కానీ బాధ్యత కనిపించదు.\n",
       "3            0  ఒక పనిమనిషి కుమారుడు ఈ దేశ ప్రధాని కావడం అంబేద...\n",
       "4            0  మత ప్రాతిపదికన మనుషుల్ని రెచ్చగొట్టే ఉగ్రవాదం ...\n",
       "...        ...                                                ...\n",
       "5405         1  క్రీడాస్ఫూర్తి వీటన్నింటినీ మించి ఉన్నప్పుడు మ...\n",
       "5406         0  ఆయన అందించిన చైతన్యంతో ఎదిగివచ్చి, సంఘటితమవుతు...\n",
       "5407         1  భారతతో వాణిజ్యాన్ని వజ్రాలకు మాత్రమే పరిమితం చ...\n",
       "5408         0  అంతర్జాతీయ టోర్నీల్లో పోర్చుగల్ విజేతగా నిలవడం...\n",
       "5409         0     కానీ, నాయకులకు ఈ అంశం సుదీర్ఘకాలం నానడం అవసరం.\n",
       "\n",
       "[5410 rows x 2 columns]"
      ]
     },
     "execution_count": 16,
     "metadata": {},
     "output_type": "execute_result"
    }
   ],
   "source": [
    "import pandas as pd\n",
    "import numpy as np\n",
    "\n",
    "d=pd.read_csv(\"se.csv\")\n",
    "d"
   ]
  },
  {
   "cell_type": "code",
   "execution_count": 17,
   "id": "15bf03be",
   "metadata": {},
   "outputs": [
    {
     "data": {
      "text/html": [
       "<div>\n",
       "<style scoped>\n",
       "    .dataframe tbody tr th:only-of-type {\n",
       "        vertical-align: middle;\n",
       "    }\n",
       "\n",
       "    .dataframe tbody tr th {\n",
       "        vertical-align: top;\n",
       "    }\n",
       "\n",
       "    .dataframe thead th {\n",
       "        text-align: right;\n",
       "    }\n",
       "</style>\n",
       "<table border=\"1\" class=\"dataframe\">\n",
       "  <thead>\n",
       "    <tr style=\"text-align: right;\">\n",
       "      <th></th>\n",
       "      <th>Polarity</th>\n",
       "      <th>Sentence</th>\n",
       "    </tr>\n",
       "  </thead>\n",
       "  <tbody>\n",
       "    <tr>\n",
       "      <th>0</th>\n",
       "      <td>0</td>\n",
       "      <td>పరువునష్టాన్ని కలిగించే చర్యలను 1860 నాటి భారత...</td>\n",
       "    </tr>\n",
       "    <tr>\n",
       "      <th>1</th>\n",
       "      <td>1</td>\n",
       "      <td>వాహనంలో ఉన్న పోలీసు సిబ్బందికి బుల్లెట్ ప్రూఫ్...</td>\n",
       "    </tr>\n",
       "    <tr>\n",
       "      <th>2</th>\n",
       "      <td>-1</td>\n",
       "      <td>దేశంపట్ల కానీ, ప్రజలపట్ల కానీ బాధ్యత కనిపించదు.</td>\n",
       "    </tr>\n",
       "    <tr>\n",
       "      <th>3</th>\n",
       "      <td>0</td>\n",
       "      <td>ఒక పనిమనిషి కుమారుడు ఈ దేశ ప్రధాని కావడం అంబేద...</td>\n",
       "    </tr>\n",
       "    <tr>\n",
       "      <th>4</th>\n",
       "      <td>0</td>\n",
       "      <td>మత ప్రాతిపదికన మనుషుల్ని రెచ్చగొట్టే ఉగ్రవాదం ...</td>\n",
       "    </tr>\n",
       "  </tbody>\n",
       "</table>\n",
       "</div>"
      ],
      "text/plain": [
       "   Polarity                                           Sentence\n",
       "0         0  పరువునష్టాన్ని కలిగించే చర్యలను 1860 నాటి భారత...\n",
       "1         1  వాహనంలో ఉన్న పోలీసు సిబ్బందికి బుల్లెట్ ప్రూఫ్...\n",
       "2        -1    దేశంపట్ల కానీ, ప్రజలపట్ల కానీ బాధ్యత కనిపించదు.\n",
       "3         0  ఒక పనిమనిషి కుమారుడు ఈ దేశ ప్రధాని కావడం అంబేద...\n",
       "4         0  మత ప్రాతిపదికన మనుషుల్ని రెచ్చగొట్టే ఉగ్రవాదం ..."
      ]
     },
     "execution_count": 17,
     "metadata": {},
     "output_type": "execute_result"
    }
   ],
   "source": [
    "d.head(5)"
   ]
  },
  {
   "cell_type": "code",
   "execution_count": 18,
   "id": "226bfc6f",
   "metadata": {},
   "outputs": [
    {
     "data": {
      "text/html": [
       "<div>\n",
       "<style scoped>\n",
       "    .dataframe tbody tr th:only-of-type {\n",
       "        vertical-align: middle;\n",
       "    }\n",
       "\n",
       "    .dataframe tbody tr th {\n",
       "        vertical-align: top;\n",
       "    }\n",
       "\n",
       "    .dataframe thead th {\n",
       "        text-align: right;\n",
       "    }\n",
       "</style>\n",
       "<table border=\"1\" class=\"dataframe\">\n",
       "  <thead>\n",
       "    <tr style=\"text-align: right;\">\n",
       "      <th></th>\n",
       "      <th>Polarity</th>\n",
       "      <th>Sentence</th>\n",
       "    </tr>\n",
       "  </thead>\n",
       "  <tbody>\n",
       "    <tr>\n",
       "      <th>5405</th>\n",
       "      <td>1</td>\n",
       "      <td>క్రీడాస్ఫూర్తి వీటన్నింటినీ మించి ఉన్నప్పుడు మ...</td>\n",
       "    </tr>\n",
       "    <tr>\n",
       "      <th>5406</th>\n",
       "      <td>0</td>\n",
       "      <td>ఆయన అందించిన చైతన్యంతో ఎదిగివచ్చి, సంఘటితమవుతు...</td>\n",
       "    </tr>\n",
       "    <tr>\n",
       "      <th>5407</th>\n",
       "      <td>1</td>\n",
       "      <td>భారతతో వాణిజ్యాన్ని వజ్రాలకు మాత్రమే పరిమితం చ...</td>\n",
       "    </tr>\n",
       "    <tr>\n",
       "      <th>5408</th>\n",
       "      <td>0</td>\n",
       "      <td>అంతర్జాతీయ టోర్నీల్లో పోర్చుగల్ విజేతగా నిలవడం...</td>\n",
       "    </tr>\n",
       "    <tr>\n",
       "      <th>5409</th>\n",
       "      <td>0</td>\n",
       "      <td>కానీ, నాయకులకు ఈ అంశం సుదీర్ఘకాలం నానడం అవసరం.</td>\n",
       "    </tr>\n",
       "  </tbody>\n",
       "</table>\n",
       "</div>"
      ],
      "text/plain": [
       "      Polarity                                           Sentence\n",
       "5405         1  క్రీడాస్ఫూర్తి వీటన్నింటినీ మించి ఉన్నప్పుడు మ...\n",
       "5406         0  ఆయన అందించిన చైతన్యంతో ఎదిగివచ్చి, సంఘటితమవుతు...\n",
       "5407         1  భారతతో వాణిజ్యాన్ని వజ్రాలకు మాత్రమే పరిమితం చ...\n",
       "5408         0  అంతర్జాతీయ టోర్నీల్లో పోర్చుగల్ విజేతగా నిలవడం...\n",
       "5409         0     కానీ, నాయకులకు ఈ అంశం సుదీర్ఘకాలం నానడం అవసరం."
      ]
     },
     "execution_count": 18,
     "metadata": {},
     "output_type": "execute_result"
    }
   ],
   "source": [
    "d.tail(5)"
   ]
  },
  {
   "cell_type": "code",
   "execution_count": 19,
   "id": "9896fc12",
   "metadata": {},
   "outputs": [
    {
     "data": {
      "text/plain": [
       " 0    2478\n",
       " 1    1491\n",
       "-1    1441\n",
       "Name: Polarity, dtype: int64"
      ]
     },
     "execution_count": 19,
     "metadata": {},
     "output_type": "execute_result"
    }
   ],
   "source": [
    "d['Polarity'].value_counts()"
   ]
  },
  {
   "cell_type": "code",
   "execution_count": 20,
   "id": "2da29c6d",
   "metadata": {},
   "outputs": [
    {
     "data": {
      "text/plain": [
       "<AxesSubplot:>"
      ]
     },
     "execution_count": 20,
     "metadata": {},
     "output_type": "execute_result"
    },
    {
     "data": {
      "image/png": "[encoded data removed]",
      "text/plain": [
       "<Figure size 432x288 with 1 Axes>"
      ]
     },
     "metadata": {
      "needs_background": "light"
     },
     "output_type": "display_data"
    }
   ],
   "source": [
    "d['Polarity'].value_counts().plot(kind='bar')"
   ]
  },
  {
   "cell_type": "markdown",
   "id": "742869ee",
   "metadata": {},
   "source": [
    "# Removing Special Characters from Data"
   ]
  },
  {
   "cell_type": "code",
   "execution_count": 21,
   "id": "ad1d0c72",
   "metadata": {},
   "outputs": [],
   "source": [
    "sentens=d['Sentence']\n",
    "filt_words=[]\n",
    "for sentence in sentens:\n",
    "    rem_spe=sentence.replace(',','').replace('.','').replace('?','').replace(\"'\",\"\")\n",
    "    words=rem_spe.split()\n",
    "    sent=' '.join(word for word in words)\n",
    "    filt_words.append(sent)"
   ]
  },
  {
   "cell_type": "code",
   "execution_count": 22,
   "id": "f4fc986c",
   "metadata": {},
   "outputs": [],
   "source": [
    "d['filter_sentence']=filt_words"
   ]
  },
  {
   "cell_type": "code",
   "execution_count": 23,
   "id": "24feae29",
   "metadata": {},
   "outputs": [
    {
     "data": {
      "text/html": [
       "<div>\n",
       "<style scoped>\n",
       "    .dataframe tbody tr th:only-of-type {\n",
       "        vertical-align: middle;\n",
       "    }\n",
       "\n",
       "    .dataframe tbody tr th {\n",
       "        vertical-align: top;\n",
       "    }\n",
       "\n",
       "    .dataframe thead th {\n",
       "        text-align: right;\n",
       "    }\n",
       "</style>\n",
       "<table border=\"1\" class=\"dataframe\">\n",
       "  <thead>\n",
       "    <tr style=\"text-align: right;\">\n",
       "      <th></th>\n",
       "      <th>Polarity</th>\n",
       "      <th>Sentence</th>\n",
       "      <th>filter_sentence</th>\n",
       "    </tr>\n",
       "  </thead>\n",
       "  <tbody>\n",
       "    <tr>\n",
       "      <th>0</th>\n",
       "      <td>0</td>\n",
       "      <td>పరువునష్టాన్ని కలిగించే చర్యలను 1860 నాటి భారత...</td>\n",
       "      <td>పరువునష్టాన్ని కలిగించే చర్యలను 1860 నాటి భారత...</td>\n",
       "    </tr>\n",
       "    <tr>\n",
       "      <th>1</th>\n",
       "      <td>1</td>\n",
       "      <td>వాహనంలో ఉన్న పోలీసు సిబ్బందికి బుల్లెట్ ప్రూఫ్...</td>\n",
       "      <td>వాహనంలో ఉన్న పోలీసు సిబ్బందికి బుల్లెట్ ప్రూఫ్...</td>\n",
       "    </tr>\n",
       "    <tr>\n",
       "      <th>2</th>\n",
       "      <td>-1</td>\n",
       "      <td>దేశంపట్ల కానీ, ప్రజలపట్ల కానీ బాధ్యత కనిపించదు.</td>\n",
       "      <td>దేశంపట్ల కానీ ప్రజలపట్ల కానీ బాధ్యత కనిపించదు</td>\n",
       "    </tr>\n",
       "    <tr>\n",
       "      <th>3</th>\n",
       "      <td>0</td>\n",
       "      <td>ఒక పనిమనిషి కుమారుడు ఈ దేశ ప్రధాని కావడం అంబేద...</td>\n",
       "      <td>ఒక పనిమనిషి కుమారుడు ఈ దేశ ప్రధాని కావడం అంబేద...</td>\n",
       "    </tr>\n",
       "    <tr>\n",
       "      <th>4</th>\n",
       "      <td>0</td>\n",
       "      <td>మత ప్రాతిపదికన మనుషుల్ని రెచ్చగొట్టే ఉగ్రవాదం ...</td>\n",
       "      <td>మత ప్రాతిపదికన మనుషుల్ని రెచ్చగొట్టే ఉగ్రవాదం ...</td>\n",
       "    </tr>\n",
       "  </tbody>\n",
       "</table>\n",
       "</div>"
      ],
      "text/plain": [
       "   Polarity                                           Sentence  \\\n",
       "0         0  పరువునష్టాన్ని కలిగించే చర్యలను 1860 నాటి భారత...   \n",
       "1         1  వాహనంలో ఉన్న పోలీసు సిబ్బందికి బుల్లెట్ ప్రూఫ్...   \n",
       "2        -1    దేశంపట్ల కానీ, ప్రజలపట్ల కానీ బాధ్యత కనిపించదు.   \n",
       "3         0  ఒక పనిమనిషి కుమారుడు ఈ దేశ ప్రధాని కావడం అంబేద...   \n",
       "4         0  మత ప్రాతిపదికన మనుషుల్ని రెచ్చగొట్టే ఉగ్రవాదం ...   \n",
       "\n",
       "                                     filter_sentence  \n",
       "0  పరువునష్టాన్ని కలిగించే చర్యలను 1860 నాటి భారత...  \n",
       "1  వాహనంలో ఉన్న పోలీసు సిబ్బందికి బుల్లెట్ ప్రూఫ్...  \n",
       "2      దేశంపట్ల కానీ ప్రజలపట్ల కానీ బాధ్యత కనిపించదు  \n",
       "3  ఒక పనిమనిషి కుమారుడు ఈ దేశ ప్రధాని కావడం అంబేద...  \n",
       "4  మత ప్రాతిపదికన మనుషుల్ని రెచ్చగొట్టే ఉగ్రవాదం ...  "
      ]
     },
     "execution_count": 23,
     "metadata": {},
     "output_type": "execute_result"
    }
   ],
   "source": [
    "d.head(5)"
   ]
  },
  {
   "cell_type": "markdown",
   "id": "88c53cc4",
   "metadata": {},
   "source": [
    "# One Hot Encoding"
   ]
  },
  {
   "cell_type": "code",
   "execution_count": 24,
   "id": "f368b0f7",
   "metadata": {},
   "outputs": [
    {
     "data": {
      "text/html": [
       "<div>\n",
       "<style scoped>\n",
       "    .dataframe tbody tr th:only-of-type {\n",
       "        vertical-align: middle;\n",
       "    }\n",
       "\n",
       "    .dataframe tbody tr th {\n",
       "        vertical-align: top;\n",
       "    }\n",
       "\n",
       "    .dataframe thead th {\n",
       "        text-align: right;\n",
       "    }\n",
       "</style>\n",
       "<table border=\"1\" class=\"dataframe\">\n",
       "  <thead>\n",
       "    <tr style=\"text-align: right;\">\n",
       "      <th></th>\n",
       "      <th>Polarity</th>\n",
       "      <th>Sentence</th>\n",
       "      <th>filter_sentence</th>\n",
       "      <th>Polarity_-1</th>\n",
       "      <th>Polarity_0</th>\n",
       "      <th>Polarity_1</th>\n",
       "    </tr>\n",
       "  </thead>\n",
       "  <tbody>\n",
       "    <tr>\n",
       "      <th>0</th>\n",
       "      <td>0</td>\n",
       "      <td>పరువునష్టాన్ని కలిగించే చర్యలను 1860 నాటి భారత...</td>\n",
       "      <td>పరువునష్టాన్ని కలిగించే చర్యలను 1860 నాటి భారత...</td>\n",
       "      <td>0.0</td>\n",
       "      <td>1.0</td>\n",
       "      <td>0.0</td>\n",
       "    </tr>\n",
       "    <tr>\n",
       "      <th>1</th>\n",
       "      <td>1</td>\n",
       "      <td>వాహనంలో ఉన్న పోలీసు సిబ్బందికి బుల్లెట్ ప్రూఫ్...</td>\n",
       "      <td>వాహనంలో ఉన్న పోలీసు సిబ్బందికి బుల్లెట్ ప్రూఫ్...</td>\n",
       "      <td>0.0</td>\n",
       "      <td>0.0</td>\n",
       "      <td>1.0</td>\n",
       "    </tr>\n",
       "    <tr>\n",
       "      <th>2</th>\n",
       "      <td>-1</td>\n",
       "      <td>దేశంపట్ల కానీ, ప్రజలపట్ల కానీ బాధ్యత కనిపించదు.</td>\n",
       "      <td>దేశంపట్ల కానీ ప్రజలపట్ల కానీ బాధ్యత కనిపించదు</td>\n",
       "      <td>1.0</td>\n",
       "      <td>0.0</td>\n",
       "      <td>0.0</td>\n",
       "    </tr>\n",
       "    <tr>\n",
       "      <th>3</th>\n",
       "      <td>0</td>\n",
       "      <td>ఒక పనిమనిషి కుమారుడు ఈ దేశ ప్రధాని కావడం అంబేద...</td>\n",
       "      <td>ఒక పనిమనిషి కుమారుడు ఈ దేశ ప్రధాని కావడం అంబేద...</td>\n",
       "      <td>0.0</td>\n",
       "      <td>1.0</td>\n",
       "      <td>0.0</td>\n",
       "    </tr>\n",
       "    <tr>\n",
       "      <th>4</th>\n",
       "      <td>0</td>\n",
       "      <td>మత ప్రాతిపదికన మనుషుల్ని రెచ్చగొట్టే ఉగ్రవాదం ...</td>\n",
       "      <td>మత ప్రాతిపదికన మనుషుల్ని రెచ్చగొట్టే ఉగ్రవాదం ...</td>\n",
       "      <td>0.0</td>\n",
       "      <td>1.0</td>\n",
       "      <td>0.0</td>\n",
       "    </tr>\n",
       "    <tr>\n",
       "      <th>...</th>\n",
       "      <td>...</td>\n",
       "      <td>...</td>\n",
       "      <td>...</td>\n",
       "      <td>...</td>\n",
       "      <td>...</td>\n",
       "      <td>...</td>\n",
       "    </tr>\n",
       "    <tr>\n",
       "      <th>5405</th>\n",
       "      <td>1</td>\n",
       "      <td>క్రీడాస్ఫూర్తి వీటన్నింటినీ మించి ఉన్నప్పుడు మ...</td>\n",
       "      <td>క్రీడాస్ఫూర్తి వీటన్నింటినీ మించి ఉన్నప్పుడు మ...</td>\n",
       "      <td>0.0</td>\n",
       "      <td>0.0</td>\n",
       "      <td>1.0</td>\n",
       "    </tr>\n",
       "    <tr>\n",
       "      <th>5406</th>\n",
       "      <td>0</td>\n",
       "      <td>ఆయన అందించిన చైతన్యంతో ఎదిగివచ్చి, సంఘటితమవుతు...</td>\n",
       "      <td>ఆయన అందించిన చైతన్యంతో ఎదిగివచ్చి సంఘటితమవుతున...</td>\n",
       "      <td>0.0</td>\n",
       "      <td>1.0</td>\n",
       "      <td>0.0</td>\n",
       "    </tr>\n",
       "    <tr>\n",
       "      <th>5407</th>\n",
       "      <td>1</td>\n",
       "      <td>భారతతో వాణిజ్యాన్ని వజ్రాలకు మాత్రమే పరిమితం చ...</td>\n",
       "      <td>భారతతో వాణిజ్యాన్ని వజ్రాలకు మాత్రమే పరిమితం చ...</td>\n",
       "      <td>0.0</td>\n",
       "      <td>0.0</td>\n",
       "      <td>1.0</td>\n",
       "    </tr>\n",
       "    <tr>\n",
       "      <th>5408</th>\n",
       "      <td>0</td>\n",
       "      <td>అంతర్జాతీయ టోర్నీల్లో పోర్చుగల్ విజేతగా నిలవడం...</td>\n",
       "      <td>అంతర్జాతీయ టోర్నీల్లో పోర్చుగల్ విజేతగా నిలవడం...</td>\n",
       "      <td>0.0</td>\n",
       "      <td>1.0</td>\n",
       "      <td>0.0</td>\n",
       "    </tr>\n",
       "    <tr>\n",
       "      <th>5409</th>\n",
       "      <td>0</td>\n",
       "      <td>కానీ, నాయకులకు ఈ అంశం సుదీర్ఘకాలం నానడం అవసరం.</td>\n",
       "      <td>కానీ నాయకులకు ఈ అంశం సుదీర్ఘకాలం నానడం అవసరం</td>\n",
       "      <td>0.0</td>\n",
       "      <td>1.0</td>\n",
       "      <td>0.0</td>\n",
       "    </tr>\n",
       "  </tbody>\n",
       "</table>\n",
       "<p>5410 rows × 6 columns</p>\n",
       "</div>"
      ],
      "text/plain": [
       "      Polarity                                           Sentence  \\\n",
       "0            0  పరువునష్టాన్ని కలిగించే చర్యలను 1860 నాటి భారత...   \n",
       "1            1  వాహనంలో ఉన్న పోలీసు సిబ్బందికి బుల్లెట్ ప్రూఫ్...   \n",
       "2           -1    దేశంపట్ల కానీ, ప్రజలపట్ల కానీ బాధ్యత కనిపించదు.   \n",
       "3            0  ఒక పనిమనిషి కుమారుడు ఈ దేశ ప్రధాని కావడం అంబేద...   \n",
       "4            0  మత ప్రాతిపదికన మనుషుల్ని రెచ్చగొట్టే ఉగ్రవాదం ...   \n",
       "...        ...                                                ...   \n",
       "5405         1  క్రీడాస్ఫూర్తి వీటన్నింటినీ మించి ఉన్నప్పుడు మ...   \n",
       "5406         0  ఆయన అందించిన చైతన్యంతో ఎదిగివచ్చి, సంఘటితమవుతు...   \n",
       "5407         1  భారతతో వాణిజ్యాన్ని వజ్రాలకు మాత్రమే పరిమితం చ...   \n",
       "5408         0  అంతర్జాతీయ టోర్నీల్లో పోర్చుగల్ విజేతగా నిలవడం...   \n",
       "5409         0     కానీ, నాయకులకు ఈ అంశం సుదీర్ఘకాలం నానడం అవసరం.   \n",
       "\n",
       "                                        filter_sentence  Polarity_-1  \\\n",
       "0     పరువునష్టాన్ని కలిగించే చర్యలను 1860 నాటి భారత...          0.0   \n",
       "1     వాహనంలో ఉన్న పోలీసు సిబ్బందికి బుల్లెట్ ప్రూఫ్...          0.0   \n",
       "2         దేశంపట్ల కానీ ప్రజలపట్ల కానీ బాధ్యత కనిపించదు          1.0   \n",
       "3     ఒక పనిమనిషి కుమారుడు ఈ దేశ ప్రధాని కావడం అంబేద...          0.0   \n",
       "4     మత ప్రాతిపదికన మనుషుల్ని రెచ్చగొట్టే ఉగ్రవాదం ...          0.0   \n",
       "...                                                 ...          ...   \n",
       "5405  క్రీడాస్ఫూర్తి వీటన్నింటినీ మించి ఉన్నప్పుడు మ...          0.0   \n",
       "5406  ఆయన అందించిన చైతన్యంతో ఎదిగివచ్చి సంఘటితమవుతున...          0.0   \n",
       "5407  భారతతో వాణిజ్యాన్ని వజ్రాలకు మాత్రమే పరిమితం చ...          0.0   \n",
       "5408  అంతర్జాతీయ టోర్నీల్లో పోర్చుగల్ విజేతగా నిలవడం...          0.0   \n",
       "5409       కానీ నాయకులకు ఈ అంశం సుదీర్ఘకాలం నానడం అవసరం          0.0   \n",
       "\n",
       "      Polarity_0  Polarity_1  \n",
       "0            1.0         0.0  \n",
       "1            0.0         1.0  \n",
       "2            0.0         0.0  \n",
       "3            1.0         0.0  \n",
       "4            1.0         0.0  \n",
       "...          ...         ...  \n",
       "5405         0.0         1.0  \n",
       "5406         1.0         0.0  \n",
       "5407         0.0         1.0  \n",
       "5408         1.0         0.0  \n",
       "5409         1.0         0.0  \n",
       "\n",
       "[5410 rows x 6 columns]"
      ]
     },
     "execution_count": 24,
     "metadata": {},
     "output_type": "execute_result"
    }
   ],
   "source": [
    "from sklearn import preprocessing\n",
    "\n",
    "encoder = preprocessing.OneHotEncoder(sparse=False)\n",
    "enc_df = pd.DataFrame(encoder.fit_transform(d[['Polarity']]))\n",
    "enc_df.columns = encoder.get_feature_names_out(['Polarity'])\n",
    "d = d.join(enc_df)\n",
    "d\n",
    "\n"
   ]
  },
  {
   "cell_type": "markdown",
   "id": "6b5d494e",
   "metadata": {},
   "source": [
    "# Splitting the data into Train and Test"
   ]
  },
  {
   "cell_type": "code",
   "execution_count": 26,
   "id": "72557b14",
   "metadata": {},
   "outputs": [],
   "source": [
    "from sklearn.model_selection import train_test_split\n",
    "\n",
    "x_train,x_test,y_train,y_test = train_test_split(d['filter_sentence'],d['Polarity'],test_size=0.2,random_state = 42,shuffle=True)"
   ]
  },
  {
   "cell_type": "code",
   "execution_count": 27,
   "id": "5abcf421",
   "metadata": {},
   "outputs": [
    {
     "name": "stdout",
     "output_type": "stream",
     "text": [
      "(4328,)\n",
      "(1082,)\n"
     ]
    }
   ],
   "source": [
    "print(y_train.shape)\n",
    "print(y_test.shape)\n"
   ]
  },
  {
   "cell_type": "markdown",
   "id": "2c7e3d8e",
   "metadata": {},
   "source": [
    "# Feature Extraction"
   ]
  },
  {
   "cell_type": "code",
   "execution_count": 28,
   "id": "4c71a37d",
   "metadata": {},
   "outputs": [],
   "source": [
    "from sklearn.feature_extraction.text import TfidfVectorizer, CountVectorizer\n",
    "\n",
    "\n",
    "tfidf_vect_ngram = TfidfVectorizer(analyzer='word', token_pattern=r'\\w{1,}', ngram_range=(2,3), max_features=5000)\n",
    "tfidf_vect_ngram.fit(d[\"filter_sentence\"])\n",
    "xtrain_tfidf_ngram =  tfidf_vect_ngram.transform(x_train)\n",
    "xtest_tfidf_ngram =  tfidf_vect_ngram.transform(x_test)"
   ]
  },
  {
   "cell_type": "markdown",
   "id": "0ecda98b",
   "metadata": {},
   "source": [
    "# Training Model"
   ]
  },
  {
   "cell_type": "code",
   "execution_count": 29,
   "id": "5168cb5d",
   "metadata": {},
   "outputs": [],
   "source": [
    "from sklearn.pipeline import Pipeline\n",
    "from sklearn.linear_model import LogisticRegression\n",
    "lr=LogisticRegression()\n",
    "\n"
   ]
  },
  {
   "cell_type": "code",
   "execution_count": 30,
   "id": "a4acd218",
   "metadata": {},
   "outputs": [],
   "source": [
    "tfidf = TfidfVectorizer(strip_accents=None,preprocessor=None)"
   ]
  },
  {
   "cell_type": "code",
   "execution_count": 31,
   "id": "31fb4668",
   "metadata": {},
   "outputs": [],
   "source": [
    "lr_tfidf = Pipeline([('vect', tfidf),('classifier', lr)])"
   ]
  },
  {
   "cell_type": "code",
   "execution_count": 32,
   "id": "fa17db6f",
   "metadata": {},
   "outputs": [
    {
     "data": {
      "text/plain": [
       "Pipeline(steps=[('vect', TfidfVectorizer()),\n",
       "                ('classifier', LogisticRegression())])"
      ]
     },
     "execution_count": 32,
     "metadata": {},
     "output_type": "execute_result"
    }
   ],
   "source": [
    "lr_tfidf.fit(x_train,y_train)"
   ]
  },
  {
   "cell_type": "code",
   "execution_count": 33,
   "id": "8a9c9eeb",
   "metadata": {},
   "outputs": [
    {
     "data": {
      "text/plain": [
       "Pipeline(steps=[('vect', TfidfVectorizer()),\n",
       "                ('classifier', LogisticRegression())])"
      ]
     },
     "execution_count": 33,
     "metadata": {},
     "output_type": "execute_result"
    }
   ],
   "source": [
    "Pipeline(steps=[('vect', TfidfVectorizer()),('classifier', lr)])"
   ]
  },
  {
   "cell_type": "markdown",
   "id": "f63066dc",
   "metadata": {},
   "source": [
    "# Testing Model"
   ]
  },
  {
   "cell_type": "code",
   "execution_count": 34,
   "id": "5af98a8c",
   "metadata": {},
   "outputs": [
    {
     "name": "stdout",
     "output_type": "stream",
     "text": [
      "Test sentence 0 -- ‘బేటీ బచావ్ బేటీ పఢావ్’ నినాదం సమాజం ఆలోచనాతీరును మార్చివేసిందంటూ అందుకు ఉదాహరణగా రిపబ్లిక్ దినోత్సవ వేడుకల్లో ఆడపిల్లలకు ప్రాముఖ్యతనిచ్చాయంటూ ఆయన ఉదహరించిన రెండు రాష్ట్రాలూ ఆయన పార్టీ అధికారంలో ఉన్నవే లింగనిష్పత్తి విషయంలో వెనుకబడివున్నవే --  0\n",
      "Test sentence 1 -- వనబంధు కల్యాణ యోజన అమలుకు రెండు నెలలుగా సర్వేలు చేసిన అధికారులు మూడు మండలాల్లో అమలుకు చర్యలు చేపడుతున్నారు --  1\n",
      "Test sentence 2 -- నిరుపేద కుటుంబానికి చెందిన మత్స సంతోషి వెయిట్ లిఫ్టింగ్లో రజతం సాధించింది --  0\n",
      "Test sentence 3 -- సమాజ క్షేమం కోసం ఒక సమాచారాన్ని వెల్లడిచేయడం పరువునష్టం కిందికి రాదు అయితే అది సమాజక్షేమం కోసమని రుజువు చేయవలసి ఉంటుంది --  0\n",
      "Test sentence 4 -- ఇదే అంశాన్ని సైతం సుప్రీం కోర్టు లోధా కమిటీ విచారణ సందర్భంగా ప్రస్తావించింది --  0\n",
      "Test sentence 5 -- అందువల్ల మంత్రిత్వ శాఖ నుంచి ఏ సూచన వచ్చినా ప్రతికూల వాదనలనే వస్తాయి --  1\n",
      "Test sentence 6 -- పర్యావరణ పరిహారం మాత్రమే’ అని సర్దిచెప్పింది --  -1\n",
      "Test sentence 7 -- ఈ కారణాలతోనే విద్యాసంస్థలు త్వరతిగతిన గుర్తింపు పొందలేకపోతున్నాయి --  -1\n",
      "Test sentence 8 -- అలాగే జగదాంబ మాతకు జరిగిన పూజల్లో కూడా ఆమె పాల్గొన్నారు --  0\n",
      "Test sentence 9 -- ఏఐటీయూసీ జల్లా ప్రధాన కార్యదర్శి ఎస్ విలాస్ మాట్లాడుతూ అసంఘటిత రంగంలో పని చేస్తున్న కార్మికులకు ఉపాధి సామాజిక భద్రత కల్పించాలన్నారు --  0\n"
     ]
    }
   ],
   "source": [
    "y_pred = lr_tfidf.predict(x_test)\n",
    "input_list=x_test.tolist()\n",
    "for i in range(10):\n",
    "  print('Test sentence ' + str(i)+\" -- \"+ input_list[i]+ \" -- \",y_pred[i])"
   ]
  },
  {
   "cell_type": "code",
   "execution_count": 35,
   "id": "bd9fabd4",
   "metadata": {},
   "outputs": [
    {
     "data": {
      "text/plain": [
       "0.5073937153419593"
      ]
     },
     "execution_count": 35,
     "metadata": {},
     "output_type": "execute_result"
    }
   ],
   "source": [
    "from sklearn.metrics import classification_report,accuracy_score,confusion_matrix\n",
    "\n",
    "accuracy_score(y_test,y_pred)"
   ]
  },
  {
   "cell_type": "code",
   "execution_count": 36,
   "id": "dcb648af",
   "metadata": {},
   "outputs": [
    {
     "name": "stdout",
     "output_type": "stream",
     "text": [
      "              precision    recall  f1-score   support\n",
      "\n",
      "          -1       0.40      0.30      0.34       266\n",
      "           0       0.55      0.69      0.61       515\n",
      "           1       0.48      0.38      0.42       301\n",
      "\n",
      "    accuracy                           0.51      1082\n",
      "   macro avg       0.48      0.46      0.46      1082\n",
      "weighted avg       0.49      0.51      0.49      1082\n",
      "\n"
     ]
    }
   ],
   "source": [
    "print(classification_report(y_test,y_pred))"
   ]
  },
  {
   "cell_type": "markdown",
   "id": "c75e8676",
   "metadata": {},
   "source": [
    "# Saving Model"
   ]
  },
  {
   "cell_type": "code",
   "execution_count": 37,
   "id": "b2bd0a46",
   "metadata": {},
   "outputs": [],
   "source": [
    "import pickle\n",
    "#model saving lr_tfidf\n",
    "pickle.dump(lr_tfidf, open('LR_model.pkl', 'wb'))"
   ]
  },
  {
   "cell_type": "markdown",
   "id": "201b9b71",
   "metadata": {},
   "source": [
    "## Using the saved Model"
   ]
  },
  {
   "cell_type": "code",
   "execution_count": 38,
   "id": "406232e8",
   "metadata": {},
   "outputs": [
    {
     "data": {
      "text/plain": [
       "0.5073937153419593"
      ]
     },
     "execution_count": 38,
     "metadata": {},
     "output_type": "execute_result"
    }
   ],
   "source": [
    "pickled_model = pickle.load(open('LR_model.pkl', 'rb'))\n",
    "\n",
    "ypred_hat=pickled_model.predict(x_test)\n",
    "accuracy_score(ypred_hat,y_test)"
   ]
  },
  {
   "cell_type": "code",
   "execution_count": 39,
   "id": "359339cf",
   "metadata": {},
   "outputs": [
    {
     "name": "stdout",
     "output_type": "stream",
     "text": [
      "              precision    recall  f1-score   support\n",
      "\n",
      "          -1       0.30      0.40      0.34       198\n",
      "           0       0.69      0.55      0.61       650\n",
      "           1       0.38      0.48      0.42       234\n",
      "\n",
      "    accuracy                           0.51      1082\n",
      "   macro avg       0.46      0.48      0.46      1082\n",
      "weighted avg       0.55      0.51      0.52      1082\n",
      "\n"
     ]
    }
   ],
   "source": [
    "print(classification_report(ypred_hat,y_test))"
   ]
  }
 ],
 "metadata": {
  "kernelspec": {
   "display_name": "Python 3 (ipykernel)",
   "language": "python",
   "name": "python3"
  },
  "language_info": {
   "codemirror_mode": {
    "name": "ipython",
    "version": 3
   },
   "file_extension": ".py",
   "mimetype": "text/x-python",
   "name": "python",
   "nbconvert_exporter": "python",
   "pygments_lexer": "ipython3",
   "version": "3.7.0"
  }
 },
 "nbformat": 4,
 "nbformat_minor": 5
}
